{
 "cells": [
  {
   "cell_type": "markdown",
   "metadata": {
    "collapsed": true
   },
   "source": [
    "# Life Expectancy and Local School Spending in England, UK\n",
    "## Problem Statement\n",
    "In this project, we look to at **average life expectancy** at birth across regions in England between 2016 and 2018 and compare this to **local authority spending on schools** in England by region between 2017 and 2018. From these datasets we want to see if there is a positive correlation between average life expectancy and public spending in England.\n",
    "\n",
    "The data for average life expectancy was found from the dataset [Health state life expectancy at birth and at age 65 years by local areas](https://www.ons.gov.uk/peoplepopulationandcommunity/healthandsocialcare/healthandlifeexpectancies/datasets/healthstatelifeexpectancyatbirthandatage65bylocalareasuk), UK Office for National Statistics (ONS), released on the 11th December 2019\n",
    "\n",
    "The data for local authority spending was found from the dataset [LA and school expenditure: 2017 to 2018 financial year](https://www.gov.uk/government/statistics/la-and-school-expenditure-2017-to-2018-financial-year) which looks at how schools and local authorities spent their funding on education, children's services and social care in the financial year 2017 to 2018."
   ]
  },
  {
   "cell_type": "markdown",
   "metadata": {
    "collapsed": true
   },
   "source": [
    "## Data Cleaning of Life Expectancy Data\n",
    "First we'll import the male and female life expectancy data with the aim of merging the datasets to find the average life expectancy at birth of male and females"
   ]
  },
  {
   "cell_type": "code",
   "execution_count": 58,
   "metadata": {
    "collapsed": false
   },
   "outputs": [
    {
     "data": {
      "text/html": [
       "<div>\n",
       "<table border=\"1\" class=\"dataframe\">\n",
       "  <thead>\n",
       "    <tr style=\"text-align: right;\">\n",
       "      <th></th>\n",
       "      <th>Avg LE</th>\n",
       "      <th>Region</th>\n",
       "    </tr>\n",
       "    <tr>\n",
       "      <th>Area</th>\n",
       "      <th></th>\n",
       "      <th></th>\n",
       "    </tr>\n",
       "  </thead>\n",
       "  <tbody>\n",
       "    <tr>\n",
       "      <th>County Durham</th>\n",
       "      <td>79.850045</td>\n",
       "      <td>NORTH EAST</td>\n",
       "    </tr>\n",
       "    <tr>\n",
       "      <th>Darlington</th>\n",
       "      <td>80.552710</td>\n",
       "      <td>NORTH EAST</td>\n",
       "    </tr>\n",
       "    <tr>\n",
       "      <th>Hartlepool</th>\n",
       "      <td>79.073210</td>\n",
       "      <td>NORTH EAST</td>\n",
       "    </tr>\n",
       "    <tr>\n",
       "      <th>Middlesbrough</th>\n",
       "      <td>77.648625</td>\n",
       "      <td>NORTH EAST</td>\n",
       "    </tr>\n",
       "    <tr>\n",
       "      <th>Northumberland</th>\n",
       "      <td>81.054320</td>\n",
       "      <td>NORTH EAST</td>\n",
       "    </tr>\n",
       "  </tbody>\n",
       "</table>\n",
       "</div>"
      ],
      "text/plain": [
       "                   Avg LE      Region\n",
       "Area                                 \n",
       "County Durham   79.850045  NORTH EAST\n",
       "Darlington      80.552710  NORTH EAST\n",
       "Hartlepool      79.073210  NORTH EAST\n",
       "Middlesbrough   77.648625  NORTH EAST\n",
       "Northumberland  81.054320  NORTH EAST"
      ]
     },
     "execution_count": 58,
     "metadata": {},
     "output_type": "execute_result"
    }
   ],
   "source": [
    "import pandas as pd\n",
    "import numpy as np\n",
    "import matplotlib.pyplot as plt\n",
    "import seaborn as sns\n",
    "%matplotlib inline\n",
    "\n",
    "\n",
    "# Set the display of max no of rows\n",
    "pd.set_option('display.max_rows', 500)\n",
    "\n",
    "# Import male life expectancy data and set county name to index column\n",
    "male_df = pd.read_excel('male-life-expectancy-regional-uk.xlsx', header=2, usecols=['Area Names', 'Unnamed: 2', 'Unnamed: 3', 'LE'])\n",
    "female_df = pd.read_excel('female-life-expectancy-regional-uk.xlsx', header=2, usecols=['Area Names', 'Unnamed: 2', 'Unnamed: 3', 'LE'])\n",
    "\n",
    "# Rename Columns\n",
    "male_df = male_df.rename(columns={'Area Names': 'Region', 'Unnamed: 2': 'County', 'Unnamed: 3': 'City/Town', 'LE': 'Male LE'})\n",
    "female_df = female_df.rename(columns={'Area Names': 'Region', 'Unnamed: 2': 'County', 'Unnamed: 3': 'City/Town', 'LE': 'Female LE'})\n",
    "\n",
    "# If NaN in LE column, drop that row\n",
    "male_df = male_df[male_df['Male LE'].notnull()]\n",
    "female_df = female_df[female_df['Female LE'].notnull()]\n",
    "\n",
    "# Map 'City/Town' or 'County into new column 'Area', (merge the columns)\n",
    "male_df['Area'] = male_df['County'].fillna(male_df['City/Town'])\n",
    "male_df = male_df.drop(['County', 'City/Town'], axis=1)\n",
    "\n",
    "female_df['Area'] = female_df['County'].fillna(female_df['City/Town'])\n",
    "female_df = female_df.drop(['County', 'City/Town'], axis=1)\n",
    "\n",
    "# Forward fill region and drop NaN values, drop WALES, SCOTLAND and NORTHERN IRELAND Regions\n",
    "# set index to Area and reorder columns\n",
    "male_df['Region'] = male_df['Region'].fillna(method='ffill')\n",
    "male_df = male_df.loc[7:408].dropna().set_index('Area')\n",
    "male_df = male_df[['Male LE', 'Region']]\n",
    "\n",
    "female_df['Region'] = female_df['Region'].fillna(method='ffill')\n",
    "female_df = female_df.loc[7:408].dropna().set_index('Area')\n",
    "female_df = female_df[['Female LE']]\n",
    "\n",
    "# Merge the two data frames into a new one with both life expectancies\n",
    "life_df = female_df.join(male_df)\n",
    "life_df['Avg LE'] = life_df[['Female LE', 'Male LE']].mean(axis=1)\n",
    "life_df = life_df[['Avg LE', 'Region']]\n",
    "life_df.head()"
   ]
  },
  {
   "cell_type": "markdown",
   "metadata": {},
   "source": [
    "## Data Cleaning of Local Authority Spending Data\n",
    "Here we import the local authority spending data and clean it"
   ]
  },
  {
   "cell_type": "code",
   "execution_count": 59,
   "metadata": {
    "collapsed": false
   },
   "outputs": [
    {
     "data": {
      "text/html": [
       "<div>\n",
       "<table border=\"1\" class=\"dataframe\">\n",
       "  <thead>\n",
       "    <tr style=\"text-align: right;\">\n",
       "      <th></th>\n",
       "      <th>Spend per pupil, £</th>\n",
       "    </tr>\n",
       "  </thead>\n",
       "  <tbody>\n",
       "    <tr>\n",
       "      <th>ENGLAND</th>\n",
       "      <td>5138.0</td>\n",
       "    </tr>\n",
       "    <tr>\n",
       "      <th>NORTH EAST</th>\n",
       "      <td>5029.0</td>\n",
       "    </tr>\n",
       "    <tr>\n",
       "      <th>Darlington</th>\n",
       "      <td>6476.0</td>\n",
       "    </tr>\n",
       "    <tr>\n",
       "      <th>Durham</th>\n",
       "      <td>5021.0</td>\n",
       "    </tr>\n",
       "    <tr>\n",
       "      <th>Gateshead</th>\n",
       "      <td>4714.0</td>\n",
       "    </tr>\n",
       "  </tbody>\n",
       "</table>\n",
       "</div>"
      ],
      "text/plain": [
       "            Spend per pupil, £\n",
       "ENGLAND                 5138.0\n",
       "NORTH EAST              5029.0\n",
       "Darlington              6476.0\n",
       "Durham                  5021.0\n",
       "Gateshead               4714.0"
      ]
     },
     "execution_count": 59,
     "metadata": {},
     "output_type": "execute_result"
    }
   ],
   "source": [
    "# Import the local authority spending data 2017-2018\n",
    "spend = pd.read_excel('school-expenditure-local-authority-17-18.xlsx', header=3, usecols=[1,4], index_col=0)\n",
    "spend.columns = [['Spend per pupil, £']]\n",
    "spend = spend.dropna()\n",
    "spend.head()"
   ]
  },
  {
   "cell_type": "code",
   "execution_count": 60,
   "metadata": {
    "collapsed": false
   },
   "outputs": [
    {
     "data": {
      "text/html": [
       "<div>\n",
       "<table border=\"1\" class=\"dataframe\">\n",
       "  <thead>\n",
       "    <tr style=\"text-align: right;\">\n",
       "      <th></th>\n",
       "      <th>Average Life Expectancy (years)</th>\n",
       "      <th>Region</th>\n",
       "      <th>Average spend per pupil (£)</th>\n",
       "    </tr>\n",
       "  </thead>\n",
       "  <tbody>\n",
       "    <tr>\n",
       "      <th>Darlington</th>\n",
       "      <td>80.552710</td>\n",
       "      <td>NORTH EAST</td>\n",
       "      <td>6476.0</td>\n",
       "    </tr>\n",
       "    <tr>\n",
       "      <th>Gateshead</th>\n",
       "      <td>79.446595</td>\n",
       "      <td>NORTH EAST</td>\n",
       "      <td>4714.0</td>\n",
       "    </tr>\n",
       "    <tr>\n",
       "      <th>Hartlepool</th>\n",
       "      <td>79.073210</td>\n",
       "      <td>NORTH EAST</td>\n",
       "      <td>5094.0</td>\n",
       "    </tr>\n",
       "    <tr>\n",
       "      <th>Middlesbrough</th>\n",
       "      <td>77.648625</td>\n",
       "      <td>NORTH EAST</td>\n",
       "      <td>5385.0</td>\n",
       "    </tr>\n",
       "    <tr>\n",
       "      <th>Newcastle upon Tyne</th>\n",
       "      <td>79.795745</td>\n",
       "      <td>NORTH EAST</td>\n",
       "      <td>5457.0</td>\n",
       "    </tr>\n",
       "  </tbody>\n",
       "</table>\n",
       "</div>"
      ],
      "text/plain": [
       "                     Average Life Expectancy (years)      Region  \\\n",
       "Darlington                                 80.552710  NORTH EAST   \n",
       "Gateshead                                  79.446595  NORTH EAST   \n",
       "Hartlepool                                 79.073210  NORTH EAST   \n",
       "Middlesbrough                              77.648625  NORTH EAST   \n",
       "Newcastle upon Tyne                        79.795745  NORTH EAST   \n",
       "\n",
       "                     Average spend per pupil (£)  \n",
       "Darlington                                6476.0  \n",
       "Gateshead                                 4714.0  \n",
       "Hartlepool                                5094.0  \n",
       "Middlesbrough                             5385.0  \n",
       "Newcastle upon Tyne                       5457.0  "
      ]
     },
     "execution_count": 60,
     "metadata": {},
     "output_type": "execute_result"
    }
   ],
   "source": [
    "# Merge the two datasets keeping only data with exact matches\n",
    "data = life_df.merge(spend, left_index=True, right_index=True, how='inner')\n",
    "data.columns = [['Average Life Expectancy (years)', 'Region', 'Average spend per pupil (£)']]\n",
    "data.head()"
   ]
  },
  {
   "cell_type": "markdown",
   "metadata": {},
   "source": [
    "## Plotting a scatter graph using Seaborn"
   ]
  },
  {
   "cell_type": "code",
   "execution_count": 62,
   "metadata": {
    "collapsed": false
   },
   "outputs": [
    {
     "data": {
      "image/png": "[encoded data removed]",
      "text/plain": [
       "<matplotlib.figure.Figure at 0x7fbc5b90fe10>"
      ]
     },
     "metadata": {},
     "output_type": "display_data"
    }
   ],
   "source": [
    "# Plot scatter plot with regression line using Seaborn\n",
    "import matplotlib.style as style\n",
    "plt.figure(figsize=(14,8))\n",
    "plt.title('Relationship between local authority spending and average \\nlife expectancy in regions across England')\n",
    "\n",
    "sns.set_context('paper', font_scale=1.5, rc={'lines.linewidth': 1})\n",
    "sns.set_style('ticks')\n",
    "style.use('seaborn-muted')\n",
    "sns.regplot(x=data['Average Life Expectancy (years)'], y=data['Average spend per pupil (£)'], \n",
    "            scatter_kws={'color': 'black'}, line_kws={'color': 'red'}, marker='x')\n",
    "sns.despine()"
   ]
  },
  {
   "cell_type": "markdown",
   "metadata": {
    "collapsed": true
   },
   "source": [
    "## Conclusions\n",
    "From the graph and regression line we can see there is no strong positive correlation. This means that we must accept the null hypothesis that average spending per pupil does not increase average life expectancy."
   ]
  },
  {
   "cell_type": "code",
   "execution_count": null,
   "metadata": {
    "collapsed": true
   },
   "outputs": [],
   "source": []
  }
 ],
 "metadata": {
  "kernelspec": {
   "display_name": "Python 3",
   "language": "python",
   "name": "python3"
  },
  "language_info": {
   "codemirror_mode": {
    "name": "ipython",
    "version": 3
   },
   "file_extension": ".py",
   "mimetype": "text/x-python",
   "name": "python",
   "nbconvert_exporter": "python",
   "pygments_lexer": "ipython3",
   "version": "3.6.2"
  }
 },
 "nbformat": 4,
 "nbformat_minor": 1
}
